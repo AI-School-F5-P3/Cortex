{
  "cells": [
    {
      "cell_type": "code",
      "execution_count": 39,
      "metadata": {
        "id": "gkfCgw-fi2Qi"
      },
      "outputs": [],
      "source": [
        "import pandas as pd\n",
        "import numpy as np\n",
        "from sklearn.preprocessing import StandardScaler\n",
        "from sklearn.model_selection import train_test_split, RandomizedSearchCV\n",
        "from sklearn.ensemble import RandomForestClassifier, GradientBoostingClassifier\n",
        "from imblearn.over_sampling import SMOTE\n",
        "from imblearn.pipeline import Pipeline\n",
        "from sklearn.metrics import classification_report, confusion_matrix\n",
        "import seaborn as sns\n",
        "import matplotlib.pyplot as plt"
      ]
    },
    {
      "cell_type": "code",
      "source": [
        "# Cargar y preparar datos\n",
        "data = pd.read_csv('teleCust1000t.csv')\n",
        "X = data.drop('custcat', axis=1)\n",
        "y = data['custcat']\n",
        "\n",
        "# Cargar y preparar datos\n",
        "data = pd.read_csv('teleCust1000t.csv')\n",
        "X = data.drop('custcat', axis=1)\n",
        "y = data['custcat']\n",
        "\n",
        "def create_balanced_features(X):\n",
        "    X_new = X.copy()\n",
        "\n",
        "    # Features basados en ratios más suaves\n",
        "    X_new['income_per_tenure'] = X_new['income'] / (X_new['tenure'] + 1)\n",
        "    X_new['income_per_age'] = X_new['income'] / (X_new['age'] + 1)\n",
        "\n",
        "    # Características categóricas mejoradas\n",
        "    X_new['age_group'] = pd.qcut(X_new['age'], q=5, labels=False)\n",
        "    X_new['income_group'] = pd.qcut(X_new['income'], q=5, labels=False)\n",
        "\n",
        "    # Interacciones selectivas\n",
        "    X_new['education_income'] = X_new['ed'] * X_new['income_group']\n",
        "    X_new['tenure_service'] = X_new['tenure'] * X_new['address']\n",
        "\n",
        "    # Características de experiencia/madurez\n",
        "    X_new['experience_ratio'] = X_new['employ'] / (X_new['age'] - 18)\n",
        "    X_new['experience_ratio'] = X_new['experience_ratio'].fillna(0)\n",
        "\n",
        "    return X_new\n"
      ],
      "metadata": {
        "id": "WqQ86K_EpqoH"
      },
      "execution_count": 40,
      "outputs": []
    },
    {
      "cell_type": "code",
      "source": [
        "# Preprocesamiento y feature engineering\n",
        "X = create_balanced_features(X)\n",
        "scaler = StandardScaler()\n",
        "X_scaled = scaler.fit_transform(X)\n",
        "X_scaled = pd.DataFrame(X_scaled, columns=X.columns)\n",
        "\n",
        "# División de datos estratificada\n",
        "X_train, X_test, y_train, y_test = train_test_split(\n",
        "    X_scaled, y,\n",
        "    test_size=0.2,\n",
        "    random_state=42,\n",
        "    stratify=y\n",
        ")\n",
        "\n",
        "# Configuración de SMOTE más conservadora\n",
        "smote = SMOTE(\n",
        "    sampling_strategy='auto',\n",
        "    random_state=42,\n",
        "    k_neighbors=5\n",
        ")\n",
        "\n",
        "# Balanceo de datos\n",
        "X_train_balanced, y_train_balanced = smote.fit_resample(X_train, y_train)"
      ],
      "metadata": {
        "id": "KWZbKPJSps0W"
      },
      "execution_count": 42,
      "outputs": []
    },
    {
      "cell_type": "code",
      "source": [
        "# Configuración del Random Forest con parámetros más equilibrados\n",
        "rf_params = {\n",
        "    'n_estimators': 200,\n",
        "    'max_depth': 12,\n",
        "    'min_samples_split': 5,\n",
        "    'min_samples_leaf': 3,\n",
        "    'max_features': 'sqrt',\n",
        "    'class_weight': 'balanced_subsample',  # Usar balanced_subsample en lugar de pesos específicos\n",
        "    'random_state': 42\n",
        "}\n"
      ],
      "metadata": {
        "id": "sp8XkvFCpveA"
      },
      "execution_count": 43,
      "outputs": []
    },
    {
      "cell_type": "code",
      "source": [
        "# Modelo principal: Random Forest\n",
        "rf_model = RandomForestClassifier(**rf_params)\n",
        "\n",
        "# Modelo secundario: Gradient Boosting para mejorar fronteras de decisión\n",
        "gb_params = {\n",
        "    'n_estimators': 100,\n",
        "    'learning_rate': 0.1,\n",
        "    'max_depth': 5,\n",
        "    'min_samples_split': 4,\n",
        "    'min_samples_leaf': 2,\n",
        "    'subsample': 0.8,\n",
        "    'random_state': 42\n",
        "}\n",
        "\n",
        "gb_model = GradientBoostingClassifier(**gb_params)\n",
        "\n",
        "\n"
      ],
      "metadata": {
        "id": "c3JCqiiRpwPH"
      },
      "execution_count": 44,
      "outputs": []
    },
    {
      "cell_type": "code",
      "source": [
        "# Entrenamiento de modelos\n",
        "rf_model.fit(X_train_balanced, y_train_balanced)\n",
        "gb_model.fit(X_train_balanced, y_train_balanced)\n",
        "\n",
        "# Predicciones combinadas\n",
        "rf_pred_proba = rf_model.predict_proba(X_test)\n",
        "gb_pred_proba = gb_model.predict_proba(X_test)\n",
        "\n",
        "# Promedio ponderado de predicciones\n",
        "final_pred_proba = (0.7 * rf_pred_proba + 0.3 * gb_pred_proba)\n",
        "y_pred = np.argmax(final_pred_proba, axis=1) + 1"
      ],
      "metadata": {
        "id": "qcBxsjn5p15I"
      },
      "execution_count": 45,
      "outputs": []
    },
    {
      "cell_type": "code",
      "source": [
        "# Evaluación\n",
        "print(\"\\nReporte de Clasificación:\")\n",
        "print(classification_report(y_test, y_pred))\n",
        "\n",
        "# Matriz de confusión\n",
        "plt.figure(figsize=(10, 8))\n",
        "conf_matrix = confusion_matrix(y_test, y_pred)\n",
        "sns.heatmap(conf_matrix, annot=True, fmt='d', cmap='Blues')\n",
        "plt.title('Matriz de Confusión')\n",
        "plt.xlabel('Predicción')\n",
        "plt.ylabel('Valor Real')\n",
        "plt.show()\n",
        "\n",
        "# Análisis de importancia de características\n",
        "feature_importance = pd.DataFrame({\n",
        "    'feature': X.columns,\n",
        "    'importance': rf_model.feature_importances_\n",
        "}).sort_values('importance', ascending=False)\n",
        "\n",
        "print(\"\\nCaracterísticas más importantes:\")\n",
        "print(feature_importance.head(10))"
      ],
      "metadata": {
        "colab": {
          "base_uri": "https://localhost:8080/",
          "height": 1000
        },
        "id": "ozF0qIRFu_tm",
        "outputId": "799743e3-25b1-44eb-9a61-05bb3f5c9ad9"
      },
      "execution_count": 46,
      "outputs": [
        {
          "output_type": "stream",
          "name": "stdout",
          "text": [
            "\n",
            "Reporte de Clasificación:\n",
            "              precision    recall  f1-score   support\n",
            "\n",
            "           1       0.39      0.32      0.35        53\n",
            "           2       0.32      0.30      0.31        44\n",
            "           3       0.43      0.46      0.45        56\n",
            "           4       0.31      0.36      0.33        47\n",
            "\n",
            "    accuracy                           0.36       200\n",
            "   macro avg       0.36      0.36      0.36       200\n",
            "weighted avg       0.37      0.36      0.36       200\n",
            "\n"
          ]
        },
        {
          "output_type": "display_data",
          "data": {
            "text/plain": [
              "<Figure size 1000x800 with 2 Axes>"
            ],
            "image/png": "[encoded data removed]"
          },
          "metadata": {}
        },
        {
          "output_type": "stream",
          "name": "stdout",
          "text": [
            "\n",
            "Características más importantes:\n",
            "              feature  importance\n",
            "1              tenure    0.100591\n",
            "11  income_per_tenure    0.097165\n",
            "16     tenure_service    0.090754\n",
            "6                  ed    0.088260\n",
            "12     income_per_age    0.081598\n",
            "5              income    0.075726\n",
            "17   experience_ratio    0.072006\n",
            "2                 age    0.066833\n",
            "7              employ    0.064617\n",
            "4             address    0.063161\n"
          ]
        }
      ]
    },
    {
      "cell_type": "code",
      "source": [
        "# Guardar modelos\n",
        "#import joblib\n",
        "#joblib.dump(rf_model, 'balanced_rf_model.pkl')\n",
        "#joblib.dump(gb_model, 'balanced_gb_model.pkl')"
      ],
      "metadata": {
        "id": "AHlFqeIbvDOC"
      },
      "execution_count": null,
      "outputs": []
    },
    {
      "cell_type": "code",
      "source": [
        "# Guardar el modelo\n",
        "#import joblib\n",
        "#joblib.dump(rf_model, 'rf_model_optimized.pkl')"
      ],
      "metadata": {
        "id": "TiIbhb4ZvF0Z"
      },
      "execution_count": null,
      "outputs": []
    }
  ],
  "metadata": {
    "colab": {
      "provenance": []
    },
    "kernelspec": {
      "display_name": "Python 3",
      "name": "python3"
    },
    "language_info": {
      "name": "python"
    }
  },
  "nbformat": 4,
  "nbformat_minor": 0
}